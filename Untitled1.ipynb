{
 "cells": [
  {
   "cell_type": "code",
   "execution_count": 22,
   "metadata": {},
   "outputs": [],
   "source": [
    "import cv2\n",
    "from tika import parser # pip install tika\n",
    "import pytesseract\n",
    "from PIL import Image"
   ]
  },
  {
   "cell_type": "code",
   "execution_count": 10,
   "metadata": {},
   "outputs": [
    {
     "name": "stdout",
     "output_type": "stream",
     "text": [
      "MATH 510 Exam 1 Questions\n",
      "\n",
      "September 11, 2020\n",
      "\n",
      "1. Let X = N, and let F = P (N). Fix p ∈ N, and let m be the measure\n",
      "defined by\n",
      "\n",
      "m(E) =\n",
      "\n",
      "{\n",
      "1 if p ∈ E\n",
      "0 if p /∈ E\n",
      "\n",
      "Show that m is a measure.\n",
      "\n",
      "2. Let X = R, and let A = {∅, Q, R\\Q, R}. Show that A is a σ-algebra.\n",
      "\n",
      "3. Compute the Lebesgue measure of the set\n",
      "\n",
      "E =\n",
      "{m\n",
      "n\n",
      "\n",
      "∈ Q : m = n+ 1\n",
      "}\n",
      ".\n",
      "\n",
      "4. Show that if A and B are Lebesgue measurable, then\n",
      "\n",
      "m(A ∪B) +m(A ∩B) = m(A) +m(B).\n",
      "\n",
      "1\n"
     ]
    }
   ],
   "source": [
    "raw = parser.from_file('sample.pdf')\n",
    "print(raw['content'].strip())"
   ]
  },
  {
   "cell_type": "code",
   "execution_count": 30,
   "metadata": {
    "scrolled": true
   },
   "outputs": [
    {
     "name": "stdout",
     "output_type": "stream",
     "text": [
      "Урок 5 то класс\n",
      "Темп: «Системы распознявяиия текста».\n",
      "\n",
      "Цепи урпкп:\n",
      "\n",
      ". помочь уиащимеи получить пренет-ооленио об оси программах рпепшнавиннп текста,\n",
      "потнокомиться е возможностями донных прогрпмл ноунить рпсповнавать\n",
      "отелоннротанный текет. переповать и редактировать ето в шото\n",
      "\n",
      "- воепитание ннформонионнои культуры унантихет. внимательности, пккурнтноети.\n",
      "писни иннронон. сти,усиднинооти\n",
      "\n",
      ". рттвитиенотиттвтелпных и.оереооннтвпмоиппботы окомныотереспмоио. ро‚-п.умс ….\n",
      "конспектиронпть\n",
      "\n",
      " \n",
      "\n",
      "   \n",
      "\n",
      "Оборудование: ид. нк, приложение ррі, пьзіап „15\n",
      "\n",
      "План урок::\n",
      "1. Орг момент.(1›.‹ин]\n",
      "1. Ахтупти циямаиий (Змииі\n",
      "3. Теоретическая часть. „0 мин!\n",
      "4. ыриктинеекап наеть. „5 мин)\n",
      "5. Ш: 12 мин)\n",
      "о. Вопросы учеников. ‹5 мин)\n",
      "7. Итогурока. 12 мин)\n",
      "Хоцуроки:\n",
      "\n",
      ":, о ;, поит/т.\n",
      "\n",
      "Приостотвке, проверка присутствующих ооьленение хода уроки\n",
      "\n",
      "„ Актгатшт пи линий\n",
      "\n",
      "Прн сошвпип Мстроппых бибтшшск и прхинон утем неро—нони к ити документом … нитрронои\n",
      "комныотсрый формы. при срсходс прс'іриятий от бумажното к электронному\n",
      "документообороту, при нообхопнмости тсдвтпровлть полученный по факсу :юкуиеит\n",
      "используются спотемы оптинеекого рвенинднаиил символов\n",
      "\n",
      "   \n",
      "\n",
      "учимся соъшпап. преобразовывать огскш\n",
      "\n",
      " \n",
      "\n",
      "На пом уроке мы . роиакное отображение .. те….\n",
      "\n",
      " \n",
      "\n",
      "ш под… он и часть\n",
      "\n",
      "с номотнью скапсра постою-п… нреето получить июбрале. ио стро ипы тип-ш п крахфичсском\n",
      "файле Однако работн- е .охки токе—том псиозмоыю … любое с… иронанкое изображение,\n",
      "пранипд : текстом предстпвплет собой тртфическнн файл _ обычную картинку Текст можно\n",
      "будет читать „ рнспеиатывтть, но непьтя будет его рсдтктпровать и форматировать Для полунения\n",
      "\n",
      "дохументи в формите токетовото ф. ли необходимо про…-ти риепотиивиние тех…, то есть\n",
      "прсобршовль моменты графически… изобшжцпкип в пееиепевито пости токетоаьтх еимоо, в.\n",
      "\n",
      "   \n",
      "\n",
      "Прюбрашваиисм графического изображения в текст заниматся специальны: программы\n",
      "рпсповнавпнит текетт 10рпса1 СЬашсін Кесовшпіии _ асю.\n",
      "\n",
      "Сопременнал оск должно уметь мнотое, рлсповнаооть тексты. набранные не только\n",
      "определенными шрифттмп …менно ток роботалн оск первого поколения). но и елмыми\n",
      "эктическими. вплоть до рукописных, Уметь корректно рпбоппь с текетами. еодержннтими олова\n",
      "на нескольких лтыкох, корректно раепотнпвтть таблицы. и епмое гптвное _ корректно\n",
      "рнспшиавап не только четко ннбронные текпы. но и такне, кннествр которых, мятко тооорп,\n",
      "\n",
      "\n"
     ]
    }
   ],
   "source": [
    "import cv2\n",
    "\n",
    "img_cv = cv2.imread('2.png')\n",
    "\n",
    "# By default OpenCV stores images in BGR format and since pytesseract assumes RGB format,\n",
    "# we need to convert from BGR to RGB format/mode:\n",
    "img_rgb = cv2.cvtColor(img_cv, cv2.COLOR_BGR2RGB)\n",
    "language = \"rus\"\n",
    "print(pytesseract.image_to_string(img_rgb,lang=language))\n",
    "# OR\n",
    "# img_rgb = Image.frombytes('RGB', img_cv.shape[:2], img_cv, 'raw', 'BGR', 0, 0)\n",
    "# print(pytesseract.image_to_string(img_rgb))\n"
   ]
  },
  {
   "cell_type": "code",
   "execution_count": 19,
   "metadata": {},
   "outputs": [],
   "source": [
    "pytesseract.pytesseract.tesseract_cmd = '/usr/bin/tesseract'\n"
   ]
  }
 ],
 "metadata": {
  "kernelspec": {
   "display_name": "signature",
   "language": "python",
   "name": "signature"
  },
  "language_info": {
   "codemirror_mode": {
    "name": "ipython",
    "version": 3
   },
   "file_extension": ".py",
   "mimetype": "text/x-python",
   "name": "python",
   "nbconvert_exporter": "python",
   "pygments_lexer": "ipython3",
   "version": "3.5.2"
  }
 },
 "nbformat": 4,
 "nbformat_minor": 4
}
